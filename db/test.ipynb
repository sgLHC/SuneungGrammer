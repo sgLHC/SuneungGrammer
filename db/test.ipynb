{
 "cells": [
  {
   "cell_type": "code",
   "execution_count": 3,
   "metadata": {},
   "outputs": [
    {
     "name": "stdout",
     "output_type": "stream",
     "text": [
      "FAISS 인덱스 파일이 성공적으로 생성되었습니다.\n"
     ]
    }
   ],
   "source": [
    "import faiss\n",
    "import numpy as np\n",
    "import json\n",
    "from sentence_transformers import SentenceTransformer\n",
    "\n",
    "# Step 1: JSON에서 메타데이터 로드\n",
    "with open('metadata.json', 'r') as f:\n",
    "    metadata = json.load(f)\n",
    "\n",
    "# Step 2: Value 데이터 추출 및 임베딩 생성\n",
    "model = SentenceTransformer('all-MiniLM-L6-v2')  # 임베딩 모델\n",
    "values = [item['value'] for item in metadata.values()]  # Value만 추출\n",
    "vectors = model.encode(values)  # Value를 벡터로 변환\n",
    "\n",
    "# Step 3: FAISS 인덱스 생성\n",
    "index = faiss.IndexFlatL2(vectors.shape[1])  # L2 거리 기반 인덱스\n",
    "index.add(np.array(vectors))  # 벡터 추가\n",
    "\n",
    "# Step 4: FAISS 인덱스 파일 저장\n",
    "faiss.write_index(index, 'faiss_index.index')\n",
    "print(\"FAISS 인덱스 파일이 성공적으로 생성되었습니다.\")"
   ]
  },
  {
   "cell_type": "code",
   "execution_count": 4,
   "metadata": {},
   "outputs": [
    {
     "name": "stdout",
     "output_type": "stream",
     "text": [
      "검색된 Key: 문제 유형 A\n",
      "검색된 Value: 이 문장은 유형 A에 해당하는 문제입니다.\n"
     ]
    }
   ],
   "source": [
    "import faiss\n",
    "import json\n",
    "from sentence_transformers import SentenceTransformer\n",
    "\n",
    "# Step 1: FAISS 인덱스 및 메타데이터 로드\n",
    "index = faiss.read_index('faiss_index.index')  # FAISS 인덱스 로드\n",
    "with open('metadata.json', 'r') as f:\n",
    "    metadata = json.load(f)\n",
    "\n",
    "# Step 2: 검색 쿼리 정의 및 임베딩 생성\n",
    "query = \"유형 A에 속하는 질문\"  # 검색할 문장\n",
    "model = SentenceTransformer('all-MiniLM-L6-v2')  # 임베딩 모델\n",
    "query_vector = model.encode([query])  # 쿼리 임베딩 생성\n",
    "\n",
    "# Step 3: 유사도 검색 수행\n",
    "distances, indices = index.search(query_vector, k=1)  # 가장 가까운 1개 검색\n",
    "\n",
    "# Step 4: 검색 결과에 따라 메타데이터 조회\n",
    "for idx in indices[0]:\n",
    "    result = metadata[str(idx)]  # JSON에서 인덱스 기반으로 메타데이터 조회\n",
    "    print(f\"검색된 Key: {result['key']}\")\n",
    "    print(f\"검색된 Value: {result['value']}\")"
   ]
  }
 ],
 "metadata": {
  "kernelspec": {
   "display_name": "Python 3",
   "language": "python",
   "name": "python3"
  },
  "language_info": {
   "codemirror_mode": {
    "name": "ipython",
    "version": 3
   },
   "file_extension": ".py",
   "mimetype": "text/x-python",
   "name": "python",
   "nbconvert_exporter": "python",
   "pygments_lexer": "ipython3",
   "version": "3.11.9"
  }
 },
 "nbformat": 4,
 "nbformat_minor": 2
}
