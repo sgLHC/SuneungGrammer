{
 "cells": [
  {
   "cell_type": "code",
   "execution_count": 19,
   "metadata": {},
   "outputs": [
    {
     "name": "stdout",
     "output_type": "stream",
     "text": [
      "{'id': '0', 'question': 'Dear Rosydale City Marathon Racers, We are really grateful to all of you who have signed up for the 10th Rosydale City Marathon that was scheduled for this coming Saturday at 10 a.m. Unfortunately, as you may already know, the weather forecast says that there is going to be a downpour throughout the race day. We truly hoped that the race would go smoothly. However, it is likely that the heavy rain will make the roads too slippery and dangerous for the racers to run safely. As a result, we have decided to cancel the race. We hope you understand and we promise to hold another race in the near future. Sincerely, Martha Kingsley Race Manager'}\n",
      "{'id': '1', 'question': 'It was Valentine’s Day on Friday and Peter was certain that his wife, Amy, was going to love his surprise. Peter had spent a long time searching online for an event that would be a new way to spend time with Amy. He had finally found the perfect thing for her. She often told him that she liked to go to places she had never visited before, and he was absolutely sure that she would love going to the new, five-star restaurant downtown. He smiled as he called the restaurant and asked for a reservation for Friday. Unfortunately, his smile quickly disappeared when he was told that the restaurant was fully reserved. “That’s too bad,” he said quietly. “I thought that I had found the right place.'}\n",
      "{'id': '2', 'question': 'We almost universally accept that playing video games is at best a pleasant break from a student’s learning and more often what prevents a student from accomplishing their goals. Games catch and hold attention in a way that few things can. And yet once they have our focus, they rarely seem to offer anything meaningful to help students grow in their lives outside the games. While this may be true for many games, we are too easily ignoring a valuable tool that could be used to enhance productivity instead of derailing it. Rather, it is desirable that we develop games that connect to the learning outcomes we want for our students. This will enable educators to take advantage of games’ attention commanding capacities and allow our students to enjoy their games while learning.'}\n",
      "{'id': '3', 'question': 'The position of the architect rose during the Roman Empire, as architecture symbolically became a particularly important political statement. Cicero classed the architect with the physician and the teacher and Vitruvius spoke of “so great a profession as this.” Marcus Vitruvius Pollio, a practicing architect during the rule of Augustus Caesar, recognized that architecture requires both practical and theoretical knowledge, and he listed the disciplines he felt the aspiring architect should master: literature and writing, draftsmanship, mathematics, history, philosophy, music, medicine, law, and astronomy― a curriculum that still has much to recommend it. All of this study was necessary, he argued, because architects who have aimed at acquiring manual skill without scholarship have never been able to reach a position of authority to correspond to their plans, while those who have relied only upon theories and scholarship were obviously “hunting the shadow, not the substance.'}\n",
      "{'id': '4', 'question': 'The ability to understand emotions― to have a diverse emotion vocabulary and to understand the causes and consequences of emotion― is particularly relevant in group settings. Individuals who are skilled in this domain are able to express emotions, feelings and moods accurately and thus, may facilitate clear communication between co-workers. Furthermore, they may be more likely to act in ways that accommodate their own needs as well as the needs of others (i.e. cooperate). In a group conflict situation, for example, a member with a strong ability to understand emotion will be able to express how he feels about the problem and why he feels this way. He also should be able to take the perspective of the other group members and understand why they are reacting in a certain manner. Appreciation of differences creates an arena for open communication and promotes constructive conflict resolution and improved group functioning.'}\n",
      "{'id': '5', 'question': 'The arrival of the Industrial Age changed the relationship among time, labor, and capital. Factories could produce around the clock, and they could do so with greater speed and volume than ever before. A machine that runs twelve hours a day will produce more widgets than one that runs for only eight hours per day― and a machine that runs twenty-four hours per day will produce the most widgets of all. As such, at many factories, the workday is divided into eight-hour shifts, so that there will always be people on hand to keep the widget machines humming. Industrialization raised the potential value of every single work hour― the more hours you worked, the more widgets you produced, and the more money you made and thus wages became tied to effort and production. Labor, previously guided by harvest cycles, became clock-oriented, and society started to reorganize around new principles of productivity.\", \"보기\":\"1 shift in the work-time paradigm brought about by industrialization,2 effects of standardizing production procedures on labor markets,3 influence of industrialization on the machine-human relationship,4 efficient ways to increase the value of time in the Industrial Age,5 problems that excessive work hours have caused for laborers.'}\n",
      "{'id': '6', 'question': 'The selfie resonates not because it is new, but because it expresses, develops, expands, and intensifies the long history of the self-portrait. The self-portrait showed to others the status of the person depicted. In this sense, what we have come to call our own “image”― the interface of the way we think we look and the way others see us― is the first and fundamental object of global visual culture. The selfie depicts the drama of our own daily performance of ourselves in tension with our inner emotions that may or may not be expressed as we wish. At each stage of the self-portrait’s expansion, more and more people have been able to depict themselves. Today’s young, urban, networked majority has reworked the history of the self-portrait to make the selfie into the first visual signature of the new era.'}\n",
      "{'id': '7', 'question': 'The graph above shows the percentages of women employed behind the scenes on the top 100 U.S. films by role in 2020, 2021, and 2022. ① For each of the three years, the percentage of women employed as producers on the top 100 U.S. films was the highest as compared with the percentages of each of the other three roles. ② The percentage of women employed as directors on the top 100 U.S. films in 2021 was lower than in 2020 but higher than in 2022. ③ The percentage of women employed as writers on the top 100 U.S. films increased by 4 percentage points from 2020 to 2021 and by 1 percentage point from 2021 to 2022. ④ The percentage of women employed as editors on the top 100 U.S. films was less than 20% in each of the three years. ⑤ In 2022, the percentage of women employed as producers on the top 100 U.S. films was the same as that in 2020.\", \"보기\":\"1 For each of the three years, the percentage of women employed as producers on the top 100 U.S. films was the highest as compared with the percentages of each of the other three roles.,2 The percentage of women employed as directors on the top 100 U.S. films in 2021 was lower than in 2020 but higher than in 2022.,3 The percentage of women employed as writers on the top 100 U.S. films increased by 4 percentage points from 2020 to 2021 and by 1 percentage point from 2021 to 2022.,4 The percentage of women employed as editors on the top 100 U.S. films was less than 20% in each of the three years.,5 In 2022, the percentage of women employed as producers on the top 100 U.S. films was the same as that in 2020.'}\n",
      "{'id': '8', 'question': 'Dick Enberg was one of America’s most beloved sports broadcasters. He was born in Michigan in 1935. In the early 1960s, he became an assistant professor at San Fernando Valley State College, where he also served as a coach of its baseball team. Afterwards, he began a full-time sportscasting career in Los Angeles. In 1973, he became the first U.S. sportscaster ever to visit China. He joined NBC Sports in 1975 and remained with the network for about 25 years, covering such big events as the Olympics. He later worked for other major sports broadcasting stations. He made his last live broadcast in 2016 and died the following year at the age of 82. He served as Chairman of the American Sportscaster Association for more than three decades. Enberg was also a best-selling writer and won Emmy Awards as a sportscaster, a writer, and a producer.'}\n",
      "{'id': '9', 'question': 'Adenville City Pass Card The Adenville City Pass Card is a public transportation card for tourists visiting Adenville. Service Range ∙Adenville-based subway lines ∙Adenville-licensed buses ※ This card cannot be used for city tour buses. Card Type Price 1-Day 3-Day 5-Day $10 $25 Additional Benefit 10% off admission for major tourist attractions $40 ※Unused cards are refundable within 30 days of the purchase date. Purchase Information ∙Physical cards can be purchased at subway stations. ∙Mobile cards can be purchased on the A-Transit app.'}\n",
      "{'id': '10', 'question': 'Luckwood Snow Festival We’re happy to announce the 15th annual Luckwood Snow Festival. Come to the festival to enjoy winter activities. When & Where ∙January 24th—30th (7 days), from 9 a.m. to 8 p.m. ∙Luckwood Park Special Activities ∙Snow Sculpture Contest: 11 teams will participate. ∙Fun in the Snow: Kids can enjoy snow tunnels and snow slides. Transportation ∙Parking is not available (Use public transportation and/or shuttle bus service). ∙The shuttle bus runs between Luckwood Subway Station and Luckwood Park (One-way fare: $1, cash only). ※ For more information, please visit www.ldsnow.org.'}\n",
      "{'id': '11', 'question': 'Think of yourself. When you decide to get up and get a drink of water, for example, you don’t consciously organize or consider the host of steps involved. Imagine if we ① had to consider every single muscle that needed to be contracted or relaxed just to stand up and walk. It would be tiresome and very slow―as patients recovering from a brain injury affecting the motor system ② knows. The autopilot parts of our brain do it for us automatically, ③ freeing up our conscious mind for more important jobs. It is the older parts of our brain ④that support these automatic processes that allow us to move, hear, see, and use many of our social skills. More recently evolved abilities like talking, reading, and writing are far less automated. So, most of the time, ⑤ what you are perceiving, feeling, or thinking is based on a very crude and fast analysis that happens completely without your awareness.\", \"보기\":\"1 had,2 knows,3 freeing,4 that,5 what'}\n"
     ]
    }
   ],
   "source": [
    "import faiss\n",
    "import numpy as np\n",
    "from sentence_transformers import SentenceTransformer\n",
    "import json, csv\n",
    "# JSON 데이터 로드\n",
    "\n",
    "data = []\n",
    "with open ('./suneung_data.csv', 'r') as f:\n",
    "    reader = csv.reader(f)\n",
    "    next(reader)\n",
    "    data = [{\"id\": row[0], \"question\": row[2]} for row in reader]\n",
    "\n",
    "for d in data:\n",
    "    print(d)\n"
   ]
  },
  {
   "cell_type": "code",
   "execution_count": 16,
   "metadata": {},
   "outputs": [],
   "source": [
    "# 문제 본문 추출 및 임베딩 생성\n",
    "model = SentenceTransformer('all-MiniLM-L6-v2')\n",
    "texts = [item[\"question\"] for item in data]\n",
    "ids = [item[\"id\"] for item in data]  # id 리스트 생성\n",
    "embeddings = model.encode(texts)\n",
    "\n",
    "# FAISS 인덱스 생성 및 벡터 추가\n",
    "dimension = embeddings.shape[1]\n",
    "index = faiss.IndexFlatL2(dimension)\n",
    "index.add(np.array(embeddings).astype('float32'))\n",
    "\n",
    "# FAISS 인덱스 저장\n",
    "faiss.write_index(index, 'faiss_index.index')\n",
    "\n",
    "# id 리스트 저장 (FAISS와 관계형 DB 매핑용)\n",
    "with open('ids.json', 'w') as f:\n",
    "    json.dump(ids, f)\n"
   ]
  },
  {
   "cell_type": "code",
   "execution_count": 20,
   "metadata": {},
   "outputs": [
    {
     "name": "stdout",
     "output_type": "stream",
     "text": [
      "검색된 문제 ID: 4\n"
     ]
    }
   ],
   "source": [
    "# FAISS 인덱스 및 ID 매핑 로드\n",
    "index = faiss.read_index('faiss_index.index')\n",
    "with open('ids.json', 'r') as f:\n",
    "    ids = json.load(f)\n",
    "\n",
    "# 사용자 입력 쿼리 처리\n",
    "query = \"The ability to understand emotions\"  # 사용자 입력 질문\n",
    "query_vector = model.encode([query]).astype('float32')\n",
    "\n",
    "# FAISS 검색 수행\n",
    "distances, indices = index.search(query_vector, k=1)  # 가장 유사한 질문 1개 검색\n",
    "\n",
    "# 검색된 id 가져오기 (FAISS 결과 → id 매핑) 4\n",
    "matched_id = ids[indices[0][0]]\n",
    "print(f\"검색된 문제 ID: {matched_id}\")\n"
   ]
  },
  {
   "cell_type": "code",
   "execution_count": null,
   "metadata": {},
   "outputs": [],
   "source": []
  }
 ],
 "metadata": {
  "kernelspec": {
   "display_name": "Python 3",
   "language": "python",
   "name": "python3"
  },
  "language_info": {
   "codemirror_mode": {
    "name": "ipython",
    "version": 3
   },
   "file_extension": ".py",
   "mimetype": "text/x-python",
   "name": "python",
   "nbconvert_exporter": "python",
   "pygments_lexer": "ipython3",
   "version": "3.12.6"
  }
 },
 "nbformat": 4,
 "nbformat_minor": 2
}
